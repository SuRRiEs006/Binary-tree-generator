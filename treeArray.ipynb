{
 "cells": [
  {
   "cell_type": "code",
   "execution_count": 52,
   "metadata": {},
   "outputs": [
    {
     "name": "stdout",
     "output_type": "stream",
     "text": [
      "[0, 1, 2, 5] [9, 10, 13, 16] ['(', '(', '(', '2', '*', '(', '3', '+', '2', ')', ')', '+', '5', ')', '/', '2', ')']\n",
      "3\n",
      "(\n",
      "['(', '3', '+', '2']\n",
      "2\n",
      "(\n",
      "['(', '2', '*', '(', '3', '+', '2', ')']\n",
      "1\n",
      "(\n",
      "['(', '(', '2', '*', '(', '3', '+', '2', ')', ')', '+', '5']\n",
      "0\n",
      "(\n",
      "['(', '(', '(', '2', '*', '(', '3', '+', '2', ')', ')', '+', '5', ')', '/', '2']\n"
     ]
    }
   ],
   "source": [
    "def find(s, ch):\n",
    "    return [i for i, ltr in enumerate(s) if ltr == ch]\n",
    "array = []\n",
    "\n",
    "equation=\"(((2*(3+2))+5)/2)\"\n",
    "equation = [char for char in equation]\n",
    "openBracket=find(equation,\"(\")\n",
    "closeBracket=find(equation,\")\")\n",
    "\n",
    "print(openBracket,closeBracket,equation)\n",
    "\n",
    "for i in range(0,len(openBracket)):\n",
    "    print((len(openBracket)-i)-1)\n",
    "    print(equation[openBracket[((len(openBracket)-i)-1)]])\n",
    "    print(equation[(openBracket[((len(openBracket)-i)-1)]):(closeBracket[i])])"
   ]
  }
 ],
 "metadata": {
  "interpreter": {
   "hash": "0d0953d4fc95219d7dac71ffff00d0345904b1229234a86e6d672f30d6d830f8"
  },
  "kernelspec": {
   "display_name": "Python 3.10.0 64-bit",
   "language": "python",
   "name": "python3"
  },
  "language_info": {
   "codemirror_mode": {
    "name": "ipython",
    "version": 3
   },
   "file_extension": ".py",
   "mimetype": "text/x-python",
   "name": "python",
   "nbconvert_exporter": "python",
   "pygments_lexer": "ipython3",
   "version": "3.10.0"
  },
  "orig_nbformat": 4
 },
 "nbformat": 4,
 "nbformat_minor": 2
}
